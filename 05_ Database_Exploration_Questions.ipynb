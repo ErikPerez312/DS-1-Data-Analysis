{
 "cells": [
  {
   "cell_type": "markdown",
   "metadata": {},
   "source": [
    "**QUESTION 1**: Get the player names, player hometowns, school names, player positions, and school conferences for all players with position ‘QB’ or ‘WR’"
   ]
  },
  {
   "cell_type": "markdown",
   "metadata": {},
   "source": [
    "SELECT player_name, hometown, players.school_name, position, teams.conference<br\\>\n",
    "FROM benn.college_football_players players<br\\>\n",
    "JOIN benn.college_football_teams teams<br\\>\n",
    "ON players.school_name = teams.school_name<br\\>\n",
    "WHERE players.position = 'QB' OR players.position = 'WR'"
   ]
  },
  {
   "cell_type": "markdown",
   "metadata": {},
   "source": [
    "**QUESTION 2:** Create a table that displays the average height of players at each position."
   ]
  },
  {
   "cell_type": "markdown",
   "metadata": {},
   "source": [
    "SELECT avg(height), position<BR \\>\n",
    "FROM benn.college_football_players<BR \\>\n",
    "WHERE height != 0 and position != '?'<BR \\>\n",
    "GROUP BY position\n"
   ]
  },
  {
   "cell_type": "markdown",
   "metadata": {},
   "source": [
    "**QUESTION 3:** Write a query that find the top 5 tallest players, as well as their position, height, school, and the conference they belong to."
   ]
  },
  {
   "cell_type": "markdown",
   "metadata": {},
   "source": [
    "SELECT height, position, school_name <BR \\>\n",
    "FROM benn.college_football_players<BR \\>\n",
    "WHERE height != 0<BR \\>\n",
    "ORDER BY height DESC<BR \\>\n",
    "LIMIT 5"
   ]
  },
  {
   "cell_type": "markdown",
   "metadata": {},
   "source": [
    "**QUESTION 4:** Write a query that gets the company name, founding date, acquirer name, and acquisition date from the crunchbase database. "
   ]
  },
  {
   "cell_type": "markdown",
   "metadata": {},
   "source": [
    "SELECT a.company_name, acquirer_name, acquired_at, c.founded_at<BR \\>\n",
    "FROM tutorial.crunchbase_acquisitions a<BR \\>\n",
    "JOIN tutorial.crunchbase_companies c<BR \\>\n",
    "ON a.company_name = c.name"
   ]
  },
  {
   "cell_type": "markdown",
   "metadata": {},
   "source": [
    "**QUESTION 5:** Companies from which 10 cities have the highest average acquisition amount?"
   ]
  },
  {
   "cell_type": "markdown",
   "metadata": {},
   "source": [
    "-- FIXME: Getting duplicate cities<BR \\>\n",
    "\n",
    "SELECT name, city, AVG(a.price_amount)<BR \\>\n",
    "FROM tutorial.crunchbase_companies c<BR \\>\n",
    "join tutorial.crunchbase_acquisitions a<BR \\>\n",
    "ON name = a.company_name<BR \\>\n",
    "WHERE city != '' AND price_amount > 0<BR \\>\n",
    "GROUP BY name, city<BR \\>\n",
    "ORDER BY avg DESC<BR \\>\n",
    "LIMIT 10"
   ]
  },
  {
   "cell_type": "markdown",
   "metadata": {},
   "source": [
    "**CHALLENGE QUESTION 10**"
   ]
  },
  {
   "cell_type": "code",
   "execution_count": 55,
   "metadata": {
    "collapsed": true
   },
   "outputs": [],
   "source": [
    "import numpy as np\n",
    "import pandas as pd\n",
    "import scipy.stats as st\n",
    "import matplotlib.pyplot as plt\n",
    "%matplotlib inline"
   ]
  },
  {
   "cell_type": "code",
   "execution_count": 56,
   "metadata": {
    "collapsed": true
   },
   "outputs": [],
   "source": [
    "def get_sample(dataset, n=30):\n",
    "    \"\"\"Grabs a random subsample of size 'n' from dataset.\n",
    "    Outputs the mean of the subsample.\"\"\"\n",
    "    \n",
    "    data = np.random.choice(dataset, size = n, replace = True)\n",
    "    return np.mean(data)\n",
    "\n",
    "def create_sample_distribution(dataset, size=100000):\n",
    "    \"\"\"Creates a dataset of subsample means.  The length of the dataset is specified by the 'size' \n",
    "    keyword argument. Should return the entire sample distribution as a numpy array.  \"\"\"\n",
    "    \n",
    "    sample_means_array = np.array([])\n",
    "    for i in range(size):\n",
    "        sample_mean = get_sample(dataset)\n",
    "        sample_means_array = np.append(sample_means_array, sample_mean)\n",
    "        \n",
    "    return sample_means_array\n",
    "\n"
   ]
  },
  {
   "cell_type": "code",
   "execution_count": 57,
   "metadata": {},
   "outputs": [
    {
     "data": {
      "text/html": [
       "<div>\n",
       "<style>\n",
       "    .dataframe thead tr:only-child th {\n",
       "        text-align: right;\n",
       "    }\n",
       "\n",
       "    .dataframe thead th {\n",
       "        text-align: left;\n",
       "    }\n",
       "\n",
       "    .dataframe tbody tr th {\n",
       "        vertical-align: top;\n",
       "    }\n",
       "</style>\n",
       "<table border=\"1\" class=\"dataframe\">\n",
       "  <thead>\n",
       "    <tr style=\"text-align: right;\">\n",
       "      <th></th>\n",
       "      <th>company_name</th>\n",
       "      <th>company_city</th>\n",
       "      <th>sum</th>\n",
       "    </tr>\n",
       "  </thead>\n",
       "  <tbody>\n",
       "    <tr>\n",
       "      <th>0</th>\n",
       "      <td>adBrite</td>\n",
       "      <td>San Francisco</td>\n",
       "      <td>66000000.0</td>\n",
       "    </tr>\n",
       "    <tr>\n",
       "      <th>1</th>\n",
       "      <td>awe.sm</td>\n",
       "      <td>San Francisco</td>\n",
       "      <td>24250000.0</td>\n",
       "    </tr>\n",
       "    <tr>\n",
       "      <th>2</th>\n",
       "      <td>about.me</td>\n",
       "      <td>San Francisco</td>\n",
       "      <td>22700000.0</td>\n",
       "    </tr>\n",
       "    <tr>\n",
       "      <th>3</th>\n",
       "      <td>adRise</td>\n",
       "      <td>San Francisco</td>\n",
       "      <td>2000000.0</td>\n",
       "    </tr>\n",
       "  </tbody>\n",
       "</table>\n",
       "</div>"
      ],
      "text/plain": [
       "  company_name   company_city         sum\n",
       "0      adBrite  San Francisco  66000000.0\n",
       "1       awe.sm  San Francisco  24250000.0\n",
       "2     about.me  San Francisco  22700000.0\n",
       "3       adRise  San Francisco   2000000.0"
      ]
     },
     "execution_count": 57,
     "metadata": {},
     "output_type": "execute_result"
    }
   ],
   "source": [
    "path = \"datasets/challenge_question_10.csv\"\n",
    "df = pd.read_csv(path)\n",
    "df\n"
   ]
  },
  {
   "cell_type": "code",
   "execution_count": 58,
   "metadata": {},
   "outputs": [
    {
     "data": {
      "text/plain": [
       "(array([  5.20000000e+01,   1.08900000e+03,   7.83800000e+03,\n",
       "          2.71210000e+04,   3.36350000e+04,   2.11570000e+04,\n",
       "          7.83800000e+03,   1.17200000e+03,   9.00000000e+01,\n",
       "          8.00000000e+00]),\n",
       " array([ 11918333.33333333,  15698000.        ,  19477666.66666667,\n",
       "         23257333.33333334,  27037000.        ,  30816666.66666666,\n",
       "         34596333.33333334,  38376000.        ,  42155666.66666666,\n",
       "         45935333.33333334,  49715000.        ]),\n",
       " <a list of 10 Patch objects>)"
      ]
     },
     "execution_count": 58,
     "metadata": {},
     "output_type": "execute_result"
    },
    {
     "data": {
      "image/png": "[encoded data removed]",
      "text/plain": [
       "<matplotlib.figure.Figure at 0x10c39cf28>"
      ]
     },
     "metadata": {},
     "output_type": "display_data"
    }
   ],
   "source": [
    "dataset = df[\"sum\"]\n",
    "data = create_sample_distribution(dataset)\n",
    "plt.hist(data)"
   ]
  },
  {
   "cell_type": "code",
   "execution_count": 59,
   "metadata": {},
   "outputs": [
    {
     "data": {
      "text/plain": [
       "28728031.516666669"
      ]
     },
     "execution_count": 59,
     "metadata": {},
     "output_type": "execute_result"
    }
   ],
   "source": [
    "mean = np.mean(data)\n",
    "mean"
   ]
  },
  {
   "cell_type": "code",
   "execution_count": 60,
   "metadata": {},
   "outputs": [
    {
     "data": {
      "text/plain": [
       "4240972.9125835989"
      ]
     },
     "execution_count": 60,
     "metadata": {},
     "output_type": "execute_result"
    }
   ],
   "source": [
    "std = np.std(data)\n",
    "std"
   ]
  },
  {
   "cell_type": "code",
   "execution_count": 73,
   "metadata": {},
   "outputs": [
    {
     "data": {
      "text/plain": [
       "-0.87905100869780239"
      ]
     },
     "execution_count": 73,
     "metadata": {},
     "output_type": "execute_result"
    }
   ],
   "source": [
    "# left \n",
    "z_of_25 = (25000000 - mean) / std\n",
    "z_of_25"
   ]
  },
  {
   "cell_type": "code",
   "execution_count": 74,
   "metadata": {},
   "outputs": [
    {
     "data": {
      "text/plain": [
       "0.29992374616664269"
      ]
     },
     "execution_count": 74,
     "metadata": {},
     "output_type": "execute_result"
    }
   ],
   "source": [
    "# right \n",
    "z_of_30 = (30000000 - mean) /std\n",
    "z_of_30"
   ]
  },
  {
   "cell_type": "code",
   "execution_count": 79,
   "metadata": {},
   "outputs": [
    {
     "data": {
      "text/plain": [
       "42.819552992031021"
      ]
     },
     "execution_count": 79,
     "metadata": {},
     "output_type": "execute_result"
    }
   ],
   "source": [
    "left_25_tail = st.norm.cdf(z_of_25)\n",
    "left_30_tail = st.norm.cdf(z_of_30)\n",
    "\n",
    "\n",
    "total_percent = left_30_tail - left_25_tail\n",
    "total_percent * 100\n"
   ]
  },
  {
   "cell_type": "code",
   "execution_count": null,
   "metadata": {
    "collapsed": true
   },
   "outputs": [],
   "source": []
  }
 ],
 "metadata": {
  "kernelspec": {
   "display_name": "Python 3",
   "language": "python",
   "name": "python3"
  },
  "language_info": {
   "codemirror_mode": {
    "name": "ipython",
    "version": 3
   },
   "file_extension": ".py",
   "mimetype": "text/x-python",
   "name": "python",
   "nbconvert_exporter": "python",
   "pygments_lexer": "ipython3",
   "version": "3.6.3"
  }
 },
 "nbformat": 4,
 "nbformat_minor": 2
}
