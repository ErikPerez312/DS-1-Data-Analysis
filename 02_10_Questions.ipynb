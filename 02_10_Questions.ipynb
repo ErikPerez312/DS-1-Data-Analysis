{
 "cells": [
  {
   "cell_type": "code",
   "execution_count": 1,
   "metadata": {
    "collapsed": true
   },
   "outputs": [],
   "source": [
    "import pandas as pd\n",
    "import numpy as np\n",
    "import matplotlib.pyplot as plt\n",
    "import matplotlib.patches as mpatches"
   ]
  },
  {
   "cell_type": "code",
   "execution_count": 4,
   "metadata": {},
   "outputs": [
    {
     "data": {
      "text/html": [
       "<div>\n",
       "<style>\n",
       "    .dataframe thead tr:only-child th {\n",
       "        text-align: right;\n",
       "    }\n",
       "\n",
       "    .dataframe thead th {\n",
       "        text-align: left;\n",
       "    }\n",
       "\n",
       "    .dataframe tbody tr th {\n",
       "        vertical-align: top;\n",
       "    }\n",
       "</style>\n",
       "<table border=\"1\" class=\"dataframe\">\n",
       "  <thead>\n",
       "    <tr style=\"text-align: right;\">\n",
       "      <th></th>\n",
       "      <th>PassengerId</th>\n",
       "      <th>Survived</th>\n",
       "      <th>Pclass</th>\n",
       "      <th>Age</th>\n",
       "      <th>SibSp</th>\n",
       "      <th>Parch</th>\n",
       "      <th>Fare</th>\n",
       "    </tr>\n",
       "  </thead>\n",
       "  <tbody>\n",
       "    <tr>\n",
       "      <th>count</th>\n",
       "      <td>891.000000</td>\n",
       "      <td>891.000000</td>\n",
       "      <td>891.000000</td>\n",
       "      <td>714.000000</td>\n",
       "      <td>891.000000</td>\n",
       "      <td>891.000000</td>\n",
       "      <td>891.000000</td>\n",
       "    </tr>\n",
       "    <tr>\n",
       "      <th>mean</th>\n",
       "      <td>446.000000</td>\n",
       "      <td>0.383838</td>\n",
       "      <td>2.308642</td>\n",
       "      <td>29.699118</td>\n",
       "      <td>0.523008</td>\n",
       "      <td>0.381594</td>\n",
       "      <td>32.204208</td>\n",
       "    </tr>\n",
       "    <tr>\n",
       "      <th>std</th>\n",
       "      <td>257.353842</td>\n",
       "      <td>0.486592</td>\n",
       "      <td>0.836071</td>\n",
       "      <td>14.526497</td>\n",
       "      <td>1.102743</td>\n",
       "      <td>0.806057</td>\n",
       "      <td>49.693429</td>\n",
       "    </tr>\n",
       "    <tr>\n",
       "      <th>min</th>\n",
       "      <td>1.000000</td>\n",
       "      <td>0.000000</td>\n",
       "      <td>1.000000</td>\n",
       "      <td>0.420000</td>\n",
       "      <td>0.000000</td>\n",
       "      <td>0.000000</td>\n",
       "      <td>0.000000</td>\n",
       "    </tr>\n",
       "    <tr>\n",
       "      <th>25%</th>\n",
       "      <td>223.500000</td>\n",
       "      <td>0.000000</td>\n",
       "      <td>2.000000</td>\n",
       "      <td>20.125000</td>\n",
       "      <td>0.000000</td>\n",
       "      <td>0.000000</td>\n",
       "      <td>7.910400</td>\n",
       "    </tr>\n",
       "    <tr>\n",
       "      <th>50%</th>\n",
       "      <td>446.000000</td>\n",
       "      <td>0.000000</td>\n",
       "      <td>3.000000</td>\n",
       "      <td>28.000000</td>\n",
       "      <td>0.000000</td>\n",
       "      <td>0.000000</td>\n",
       "      <td>14.454200</td>\n",
       "    </tr>\n",
       "    <tr>\n",
       "      <th>75%</th>\n",
       "      <td>668.500000</td>\n",
       "      <td>1.000000</td>\n",
       "      <td>3.000000</td>\n",
       "      <td>38.000000</td>\n",
       "      <td>1.000000</td>\n",
       "      <td>0.000000</td>\n",
       "      <td>31.000000</td>\n",
       "    </tr>\n",
       "    <tr>\n",
       "      <th>max</th>\n",
       "      <td>891.000000</td>\n",
       "      <td>1.000000</td>\n",
       "      <td>3.000000</td>\n",
       "      <td>80.000000</td>\n",
       "      <td>8.000000</td>\n",
       "      <td>6.000000</td>\n",
       "      <td>512.329200</td>\n",
       "    </tr>\n",
       "  </tbody>\n",
       "</table>\n",
       "</div>"
      ],
      "text/plain": [
       "       PassengerId    Survived      Pclass         Age       SibSp  \\\n",
       "count   891.000000  891.000000  891.000000  714.000000  891.000000   \n",
       "mean    446.000000    0.383838    2.308642   29.699118    0.523008   \n",
       "std     257.353842    0.486592    0.836071   14.526497    1.102743   \n",
       "min       1.000000    0.000000    1.000000    0.420000    0.000000   \n",
       "25%     223.500000    0.000000    2.000000   20.125000    0.000000   \n",
       "50%     446.000000    0.000000    3.000000   28.000000    0.000000   \n",
       "75%     668.500000    1.000000    3.000000   38.000000    1.000000   \n",
       "max     891.000000    1.000000    3.000000   80.000000    8.000000   \n",
       "\n",
       "            Parch        Fare  \n",
       "count  891.000000  891.000000  \n",
       "mean     0.381594   32.204208  \n",
       "std      0.806057   49.693429  \n",
       "min      0.000000    0.000000  \n",
       "25%      0.000000    7.910400  \n",
       "50%      0.000000   14.454200  \n",
       "75%      0.000000   31.000000  \n",
       "max      6.000000  512.329200  "
      ]
     },
     "execution_count": 4,
     "metadata": {},
     "output_type": "execute_result"
    }
   ],
   "source": [
    "path = \"datasets/titanic.csv\"\n",
    "df = pd.read_csv(path)\n",
    "df.describe()"
   ]
  },
  {
   "cell_type": "markdown",
   "metadata": {},
   "source": [
    "1- **Given that only a few passenger survive, what are the odds that they are still alive today?**\n",
    "\n",
    "ANSWER: None, they have all died by now."
   ]
  },
  {
   "cell_type": "markdown",
   "metadata": {},
   "source": [
    "2- **Given a passenger had over 5 siblings, what are the odds of their survival.**\n",
    "\n",
    "ANSWER: The odds of survival for an individual with over 5 siblings and/or spouses is 0% **sad face**"
   ]
  },
  {
   "cell_type": "code",
   "execution_count": 15,
   "metadata": {},
   "outputs": [
    {
     "data": {
      "text/html": [
       "<div>\n",
       "<style>\n",
       "    .dataframe thead tr:only-child th {\n",
       "        text-align: right;\n",
       "    }\n",
       "\n",
       "    .dataframe thead th {\n",
       "        text-align: left;\n",
       "    }\n",
       "\n",
       "    .dataframe tbody tr th {\n",
       "        vertical-align: top;\n",
       "    }\n",
       "</style>\n",
       "<table border=\"1\" class=\"dataframe\">\n",
       "  <thead>\n",
       "    <tr style=\"text-align: right;\">\n",
       "      <th></th>\n",
       "      <th>PassengerId</th>\n",
       "      <th>Survived</th>\n",
       "      <th>Pclass</th>\n",
       "      <th>Age</th>\n",
       "      <th>SibSp</th>\n",
       "      <th>Parch</th>\n",
       "      <th>Fare</th>\n",
       "    </tr>\n",
       "  </thead>\n",
       "  <tbody>\n",
       "    <tr>\n",
       "      <th>count</th>\n",
       "      <td>0.0</td>\n",
       "      <td>0.0</td>\n",
       "      <td>0.0</td>\n",
       "      <td>0.0</td>\n",
       "      <td>0.0</td>\n",
       "      <td>0.0</td>\n",
       "      <td>0.0</td>\n",
       "    </tr>\n",
       "    <tr>\n",
       "      <th>mean</th>\n",
       "      <td>NaN</td>\n",
       "      <td>NaN</td>\n",
       "      <td>NaN</td>\n",
       "      <td>NaN</td>\n",
       "      <td>NaN</td>\n",
       "      <td>NaN</td>\n",
       "      <td>NaN</td>\n",
       "    </tr>\n",
       "    <tr>\n",
       "      <th>std</th>\n",
       "      <td>NaN</td>\n",
       "      <td>NaN</td>\n",
       "      <td>NaN</td>\n",
       "      <td>NaN</td>\n",
       "      <td>NaN</td>\n",
       "      <td>NaN</td>\n",
       "      <td>NaN</td>\n",
       "    </tr>\n",
       "    <tr>\n",
       "      <th>min</th>\n",
       "      <td>NaN</td>\n",
       "      <td>NaN</td>\n",
       "      <td>NaN</td>\n",
       "      <td>NaN</td>\n",
       "      <td>NaN</td>\n",
       "      <td>NaN</td>\n",
       "      <td>NaN</td>\n",
       "    </tr>\n",
       "    <tr>\n",
       "      <th>25%</th>\n",
       "      <td>NaN</td>\n",
       "      <td>NaN</td>\n",
       "      <td>NaN</td>\n",
       "      <td>NaN</td>\n",
       "      <td>NaN</td>\n",
       "      <td>NaN</td>\n",
       "      <td>NaN</td>\n",
       "    </tr>\n",
       "    <tr>\n",
       "      <th>50%</th>\n",
       "      <td>NaN</td>\n",
       "      <td>NaN</td>\n",
       "      <td>NaN</td>\n",
       "      <td>NaN</td>\n",
       "      <td>NaN</td>\n",
       "      <td>NaN</td>\n",
       "      <td>NaN</td>\n",
       "    </tr>\n",
       "    <tr>\n",
       "      <th>75%</th>\n",
       "      <td>NaN</td>\n",
       "      <td>NaN</td>\n",
       "      <td>NaN</td>\n",
       "      <td>NaN</td>\n",
       "      <td>NaN</td>\n",
       "      <td>NaN</td>\n",
       "      <td>NaN</td>\n",
       "    </tr>\n",
       "    <tr>\n",
       "      <th>max</th>\n",
       "      <td>NaN</td>\n",
       "      <td>NaN</td>\n",
       "      <td>NaN</td>\n",
       "      <td>NaN</td>\n",
       "      <td>NaN</td>\n",
       "      <td>NaN</td>\n",
       "      <td>NaN</td>\n",
       "    </tr>\n",
       "  </tbody>\n",
       "</table>\n",
       "</div>"
      ],
      "text/plain": [
       "       PassengerId  Survived  Pclass  Age  SibSp  Parch  Fare\n",
       "count          0.0       0.0     0.0  0.0    0.0    0.0   0.0\n",
       "mean           NaN       NaN     NaN  NaN    NaN    NaN   NaN\n",
       "std            NaN       NaN     NaN  NaN    NaN    NaN   NaN\n",
       "min            NaN       NaN     NaN  NaN    NaN    NaN   NaN\n",
       "25%            NaN       NaN     NaN  NaN    NaN    NaN   NaN\n",
       "50%            NaN       NaN     NaN  NaN    NaN    NaN   NaN\n",
       "75%            NaN       NaN     NaN  NaN    NaN    NaN   NaN\n",
       "max            NaN       NaN     NaN  NaN    NaN    NaN   NaN"
      ]
     },
     "execution_count": 15,
     "metadata": {},
     "output_type": "execute_result"
    }
   ],
   "source": [
    "sib_df = df[(df[\"SibSp\"] > 5) & (df[\"Survived\"] == 1)]\n",
    "sib_df.describe()"
   ]
  },
  {
   "cell_type": "markdown",
   "metadata": {},
   "source": [
    "3- **Given a passenger had no siblings/spouse/children onboard, what are the odds of their survival.**\n",
    "\n",
    "ANSWER: The odds would be %30(.30) chance of survival"
   ]
  },
  {
   "cell_type": "code",
   "execution_count": 29,
   "metadata": {},
   "outputs": [
    {
     "data": {
      "text/plain": [
       "0.30353817504655495"
      ]
     },
     "execution_count": 29,
     "metadata": {},
     "output_type": "execute_result"
    }
   ],
   "source": [
    "single_df = df[(df[\"SibSp\"] == 0) & (df[\"Parch\"] == 0)]\n",
    "surv_single_df = df[(df[\"SibSp\"] == 0) & (df[\"Parch\"] == 0) & (df[\"Survived\"] == 1)]\n",
    "\n",
    "total_singles = 537 # Uncomment next line for proof.\n",
    "# single_df.describe()\n",
    "\n",
    "single_survivors = 163 # Uncomment next line for proof.\n",
    "# surv_single_df.describe()\n",
    "\n",
    "p = single_survivors/total_singles\n",
    "p\n",
    "# p = .30 or %30\n",
    "\n"
   ]
  },
  {
   "cell_type": "markdown",
   "metadata": {},
   "source": [
    "4- **Given that a passenger survived, what are the odds their age is under 18?**\n",
    "\n",
    "ANSWER: Odds of survival for under age individual was %20"
   ]
  },
  {
   "cell_type": "code",
   "execution_count": 34,
   "metadata": {},
   "outputs": [
    {
     "data": {
      "text/plain": [
       "0.1783625730994152"
      ]
     },
     "execution_count": 34,
     "metadata": {},
     "output_type": "execute_result"
    }
   ],
   "source": [
    "surv_df = df[df[\"Survived\"] == 1]\n",
    "under_df = df[(df[\"Survived\"] == 1) & (df[\"Age\"] < 18)]\n",
    "\n",
    "t_surv = 342 # uncomment line below for proof.\n",
    "# surv_df.describe()\n",
    "\n",
    "t_under_surv = 61 # uncomment line below for proof.\n",
    "# under_df.describe()\n",
    "\n",
    "# = .20 or %20 odds of survival\n",
    "p = t_under_surv/t_surv\n",
    "p"
   ]
  },
  {
   "cell_type": "markdown",
   "metadata": {},
   "source": [
    "5- **Given that a passenger is over 30 years old, what are the odds they paid over $15 for a ticket?**\n",
    "\n",
    "ANSWER: Odds are .6 or %60"
   ]
  },
  {
   "cell_type": "code",
   "execution_count": 37,
   "metadata": {},
   "outputs": [
    {
     "data": {
      "text/plain": [
       "0.6"
      ]
     },
     "execution_count": 37,
     "metadata": {},
     "output_type": "execute_result"
    }
   ],
   "source": [
    "old_df = df[df[\"Age\"] > 30]\n",
    "old_paid_over_15_df = df[(df[\"Age\"] > 30) & (df[\"Fare\"] > 15)]\n",
    "\n",
    "t_old_people = 305\n",
    "# old_df.describe()\n",
    "\n",
    "over_15 = 183\n",
    "# old_paid_over_15_df.describe()\n",
    "\n",
    "# p = .6 or %60\n",
    "p = over_15/t_old_people\n",
    "p\n"
   ]
  },
  {
   "cell_type": "markdown",
   "metadata": {},
   "source": [
    "6- **Given that a passenger survived, what are the chances they were 2nd class?**\n",
    "\n",
    "ANSWER: Odds are .47 or 47%"
   ]
  },
  {
   "cell_type": "code",
   "execution_count": 44,
   "metadata": {},
   "outputs": [
    {
     "data": {
      "text/plain": [
       "0.47282608695652173"
      ]
     },
     "execution_count": 44,
     "metadata": {},
     "output_type": "execute_result"
    }
   ],
   "source": [
    "t_second_df = df[df[\"Pclass\"] == 2]\n",
    "t_second_surv_df = df[(df[\"Pclass\"] == 2) & (df[\"Survived\"] == 1)]\n",
    "\n",
    "t_second = 184\n",
    "# t_second_df.describe()\n",
    "\n",
    "t_second_surv = 87\n",
    "# t_second_surv_df.describe()\n",
    "\n",
    "p = t_second_surv/t_second\n",
    "p\n"
   ]
  },
  {
   "cell_type": "markdown",
   "metadata": {},
   "source": [
    "7- **Given that a passenger embarked at Queenstown, what are the chances she is in first class? Second class? Third class?**\n",
    "\n",
    "ANSWER: \n",
    "* P1st = 3%\n",
    "* P2nd = 4%\n",
    "* p3rd = 94%"
   ]
  },
  {
   "cell_type": "code",
   "execution_count": 65,
   "metadata": {},
   "outputs": [
    {
     "data": {
      "text/plain": [
       "0.935064935064935"
      ]
     },
     "execution_count": 65,
     "metadata": {},
     "output_type": "execute_result"
    }
   ],
   "source": [
    "q_pass_df = df[df[\"Embarked\"] == \"Q\"]\n",
    "t_first_df = df[(df[\"Embarked\"] == \"Q\") & (df[\"Pclass\"] == 1)]\n",
    "t_second_df = df[(df[\"Embarked\"] == \"Q\") & (df[\"Pclass\"] == 2)]\n",
    "t_third_df = df[(df[\"Embarked\"] == \"Q\") & (df[\"Pclass\"] == 3)]\n",
    "\n",
    "\n",
    "t_q_pass = 77\n",
    "# q_pass_df.describe()\n",
    "\n",
    "t_q_first = 2\n",
    "# t_first_df.describe()\n",
    "\n",
    "t_q_second = 3\n",
    "# t_second_df.describe()\n",
    "\n",
    "t_q_third = 72\n",
    "# t_third_df.describe()\n",
    "\n",
    "\n",
    "\n",
    "# p_first = .025\n",
    "# p1 = t_q_first/t_q_pass\n",
    "# p1\n",
    "\n",
    "# p_second = .038\n",
    "# p2 = t_q_second/t_q_pass\n",
    "# p2\n",
    "\n",
    "p_third = .935\n",
    "p3 = t_q_third/t_q_pass\n",
    "p3\n",
    "\n"
   ]
  },
  {
   "cell_type": "markdown",
   "metadata": {},
   "source": [
    "8- **Given that a passenger a passenger departed from Cherbourg, what is the probability that they paid more than $40 for a ticket?**\n",
    "\n",
    "ANSWER: odds are 40%"
   ]
  },
  {
   "cell_type": "code",
   "execution_count": 68,
   "metadata": {},
   "outputs": [
    {
     "data": {
      "text/plain": [
       "0.40476190476190477"
      ]
     },
     "execution_count": 68,
     "metadata": {},
     "output_type": "execute_result"
    }
   ],
   "source": [
    "c_pass_df = df[df[\"Embarked\"] == \"C\"]\n",
    "over_40 = df[(df[\"Embarked\"] == \"C\") & (df[\"Fare\"] > 40)]\n",
    "\n",
    "t_c = 168\n",
    "# c_pass_df.describe()\n",
    "\n",
    "t_over_40 = 68\n",
    "# over_40.describe()\n",
    "\n",
    "p = t_over_40/t_c\n",
    "p"
   ]
  },
  {
   "cell_type": "markdown",
   "metadata": {},
   "source": [
    "9- **Given that a passenger paid over $15, what are the odds they are over 30 years old?**\n",
    "\n",
    "ANSWER: 42%"
   ]
  },
  {
   "cell_type": "code",
   "execution_count": 82,
   "metadata": {},
   "outputs": [
    {
     "data": {
      "text/plain": [
       "0.4226327944572748"
      ]
     },
     "execution_count": 82,
     "metadata": {},
     "output_type": "execute_result"
    }
   ],
   "source": [
    "e = df[df[\"Fare\"] > 15]\n",
    "s = df[(df[\"Age\"] > 30) & (df[\"Fare\"] > 15)]\n",
    "\n",
    "e_surv = 433\n",
    "e.describe()\n",
    "\n",
    "s_surv = 183\n",
    "s.describe()\n",
    "\n",
    "p = s_surv/e_surv\n",
    "p"
   ]
  },
  {
   "cell_type": "markdown",
   "metadata": {},
   "source": [
    "10- **Given that a passenger paid over $100 for their ticket, what is the chance they survived?**\n",
    "\n",
    "ANSWER: 74%"
   ]
  },
  {
   "cell_type": "code",
   "execution_count": 77,
   "metadata": {},
   "outputs": [
    {
     "data": {
      "text/plain": [
       "0.7358490566037735"
      ]
     },
     "execution_count": 77,
     "metadata": {},
     "output_type": "execute_result"
    }
   ],
   "source": [
    "t = df[df[\"Fare\"] > 100]\n",
    "f = df[(df[\"Survived\"] == 1) & (df[\"Fare\"] > 100)]\n",
    "\n",
    "t_surv = 53\n",
    "# t.describe()\n",
    "\n",
    "f_surv = 39\n",
    "f.describe()\n",
    "\n",
    "p = f_surv/t_surv\n",
    "p"
   ]
  },
  {
   "cell_type": "code",
   "execution_count": null,
   "metadata": {
    "collapsed": true
   },
   "outputs": [],
   "source": []
  }
 ],
 "metadata": {
  "kernelspec": {
   "display_name": "Python 3",
   "language": "python",
   "name": "python3"
  },
  "language_info": {
   "codemirror_mode": {
    "name": "ipython",
    "version": 3
   },
   "file_extension": ".py",
   "mimetype": "text/x-python",
   "name": "python",
   "nbconvert_exporter": "python",
   "pygments_lexer": "ipython3",
   "version": "3.6.3"
  }
 },
 "nbformat": 4,
 "nbformat_minor": 2
}
